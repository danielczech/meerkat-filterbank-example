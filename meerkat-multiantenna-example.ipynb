{
 "cells": [
  {
   "cell_type": "code",
   "execution_count": null,
   "metadata": {},
   "outputs": [],
   "source": []
  },
  {
   "cell_type": "code",
   "execution_count": null,
   "metadata": {},
   "outputs": [],
   "source": [
    "def inc_sum(nants, spectra):\n",
    "    \"\"\"Perform an incoherent sum on filterbank waterfall plot.\n",
    "    \n",
    "    nants (int):  number of antennas \n",
    "    spectra (numpy matrix): the waterfall plot\n",
    "    \n",
    "    Returns inc (numpy matrix), the incoherent sum. \n",
    "    \"\"\"\n",
    "    ant_chan = int(spectra.shape[1]/nants)\n",
    "    inc = np.reshape(spectra, (spectra.shape[0],\n",
    "        int(spectra.shape[1]/ant_chan), ant_chan))\n",
    "    inc = np.sum(inc, axis = 1)\n",
    "    return inc"
   ]
  }
 ],
 "metadata": {
  "kernelspec": {
   "display_name": "Python 3",
   "language": "python",
   "name": "python3"
  },
  "language_info": {
   "codemirror_mode": {
    "name": "ipython",
    "version": 3
   },
   "file_extension": ".py",
   "mimetype": "text/x-python",
   "name": "python",
   "nbconvert_exporter": "python",
   "pygments_lexer": "ipython3",
   "version": "3.8.5"
  }
 },
 "nbformat": 4,
 "nbformat_minor": 4
}
